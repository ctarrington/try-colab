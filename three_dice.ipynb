{
  "nbformat": 4,
  "nbformat_minor": 0,
  "metadata": {
    "colab": {
      "name": "three_dice.ipynb",
      "provenance": [],
      "authorship_tag": "ABX9TyOYPUJQCYWhgdXDc+pQD+1U",
      "include_colab_link": true
    },
    "kernelspec": {
      "name": "python3",
      "display_name": "Python 3"
    }
  },
  "cells": [
    {
      "cell_type": "markdown",
      "metadata": {
        "id": "view-in-github",
        "colab_type": "text"
      },
      "source": [
        "<a href=\"https://colab.research.google.com/github/ctarrington/try-colab/blob/master/three_dice.ipynb\" target=\"_parent\"><img src=\"https://colab.research.google.com/assets/colab-badge.svg\" alt=\"Open In Colab\"/></a>"
      ]
    },
    {
      "cell_type": "code",
      "metadata": {
        "id": "O0MnqzDZrRIs",
        "colab_type": "code",
        "colab": {}
      },
      "source": [
        "import matplotlib.pyplot as plt\n"
      ],
      "execution_count": 0,
      "outputs": []
    },
    {
      "cell_type": "code",
      "metadata": {
        "id": "-n0iAAKtUAp8",
        "colab_type": "code",
        "colab": {}
      },
      "source": [
        "def three_dice(condition, sides=6):\n",
        "  matches=0\n",
        "  total=0\n",
        "\n",
        "  for x in range(1,sides+1):\n",
        "    for y in range(1,sides+1):\n",
        "      for z in range(1,sides+1):\n",
        "        if condition(x,y,z):\n",
        "          matches=matches+1\n",
        "          \n",
        "        total=total+1\n",
        "        \n",
        "  return (matches, total, matches/total)\n",
        "\n"
      ],
      "execution_count": 0,
      "outputs": []
    },
    {
      "cell_type": "code",
      "metadata": {
        "id": "GoUzn292UR9P",
        "colab_type": "code",
        "colab": {}
      },
      "source": [
        "def greater_than(value):\n",
        "  def condition(x,y,z):\n",
        "    return x+y+z > value\n",
        "\n",
        "  return condition\n"
      ],
      "execution_count": 0,
      "outputs": []
    },
    {
      "cell_type": "code",
      "metadata": {
        "id": "qvE5xhUirk38",
        "colab_type": "code",
        "colab": {}
      },
      "source": [
        "def equal_to(value):\n",
        "  def condition(x,y,z):\n",
        "    return x+y+z == value\n",
        "\n",
        "  return condition"
      ],
      "execution_count": 0,
      "outputs": []
    },
    {
      "cell_type": "code",
      "metadata": {
        "id": "2ZlBKIV4YbV1",
        "colab_type": "code",
        "colab": {}
      },
      "source": [
        "result = three_dice(greater_than(7))\n",
        "print(result)\n",
        "print(result[2])"
      ],
      "execution_count": 0,
      "outputs": []
    },
    {
      "cell_type": "code",
      "metadata": {
        "id": "pRkN8C1yplW8",
        "colab_type": "code",
        "colab": {}
      },
      "source": [
        "three_dice(greater_than(29), 10)"
      ],
      "execution_count": 0,
      "outputs": []
    },
    {
      "cell_type": "code",
      "metadata": {
        "id": "zoXMkt8rpvOZ",
        "colab_type": "code",
        "colab": {}
      },
      "source": [
        "three_dice(equal_to(3))"
      ],
      "execution_count": 0,
      "outputs": []
    },
    {
      "cell_type": "code",
      "metadata": {
        "id": "08q2KXhxsKtc",
        "colab_type": "code",
        "colab": {}
      },
      "source": [
        "xs = list(range(3,19))\n",
        "ys = [three_dice(equal_to(x))[2] for x in xs]\n",
        "print('xs', xs)\n",
        "print('ys', ys)\n",
        "print('sum', sum(ys))\n"
      ],
      "execution_count": 0,
      "outputs": []
    },
    {
      "cell_type": "code",
      "metadata": {
        "id": "XHqw03Wb2Exn",
        "colab_type": "code",
        "colab": {}
      },
      "source": [
        "plt.plot(xs,ys)\n",
        "plt.show()"
      ],
      "execution_count": 0,
      "outputs": []
    },
    {
      "cell_type": "code",
      "metadata": {
        "id": "5p6p8yUc2h7q",
        "colab_type": "code",
        "colab": {}
      },
      "source": [
        ""
      ],
      "execution_count": 0,
      "outputs": []
    }
  ]
}