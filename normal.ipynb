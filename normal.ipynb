{
  "nbformat": 4,
  "nbformat_minor": 0,
  "metadata": {
    "colab": {
      "name": "normal.ipynb",
      "provenance": [],
      "authorship_tag": "ABX9TyOGo2Tc1+Fy6p75vfu5Q6gh",
      "include_colab_link": true
    },
    "kernelspec": {
      "name": "python3",
      "display_name": "Python 3"
    }
  },
  "cells": [
    {
      "cell_type": "markdown",
      "metadata": {
        "id": "view-in-github",
        "colab_type": "text"
      },
      "source": [
        "<a href=\"https://colab.research.google.com/github/ctarrington/try-colab/blob/master/normal.ipynb\" target=\"_parent\"><img src=\"https://colab.research.google.com/assets/colab-badge.svg\" alt=\"Open In Colab\"/></a>"
      ]
    },
    {
      "cell_type": "code",
      "metadata": {
        "id": "YMrBxSprx_wB",
        "colab_type": "code",
        "colab": {}
      },
      "source": [
        "from math import factorial\n",
        "import numpy as np\n",
        "from scipy.stats import norm\n",
        "\n",
        "from matplotlib.pyplot import plot, fill_between"
      ],
      "execution_count": 5,
      "outputs": []
    },
    {
      "cell_type": "code",
      "metadata": {
        "id": "YaiwPS-JzqLN",
        "colab_type": "code",
        "colab": {}
      },
      "source": [
        "points_to_18 = np.linspace(10, 18)\n",
        "points = np.linspace(10, 30)"
      ],
      "execution_count": 11,
      "outputs": []
    },
    {
      "cell_type": "markdown",
      "metadata": {
        "id": "HuihgBiOyuiW",
        "colab_type": "text"
      },
      "source": [
        "## probability that t < 18 when $ \\mu_t = 20.6 $ and $ \\sigma = 1.62 $"
      ]
    },
    {
      "cell_type": "code",
      "metadata": {
        "id": "S39svYeaydB7",
        "colab_type": "code",
        "colab": {
          "base_uri": "https://localhost:8080/",
          "height": 299
        },
        "outputId": "38265247-7c37-473b-f3d0-9ccfe45590ff"
      },
      "source": [
        "rv = norm(20.6, 1.62)\n",
        "print('probability that t < 18 is', rv.cdf(18))\n",
        "plot(points, rv.pdf(points))\n",
        "fill_between(points_to_18, rv.pdf(points_to_18))"
      ],
      "execution_count": 13,
      "outputs": [
        {
          "output_type": "stream",
          "text": [
            "probability that t < 18 is 0.054253694995386695\n"
          ],
          "name": "stdout"
        },
        {
          "output_type": "execute_result",
          "data": {
            "text/plain": [
              "<matplotlib.collections.PolyCollection at 0x7f5cef132860>"
            ]
          },
          "metadata": {
            "tags": []
          },
          "execution_count": 13
        },
        {
          "output_type": "display_data",
          "data": {
            "image/png": "[encoded data removed]",
            "text/plain": [
              "<Figure size 432x288 with 1 Axes>"
            ]
          },
          "metadata": {
            "tags": [],
            "needs_background": "light"
          }
        }
      ]
    },
    {
      "cell_type": "code",
      "metadata": {
        "id": "OgIuP-YRzJUT",
        "colab_type": "code",
        "colab": {}
      },
      "source": [
        ""
      ],
      "execution_count": null,
      "outputs": []
    }
  ]
}