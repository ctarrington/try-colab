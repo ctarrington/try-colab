{
  "nbformat": 4,
  "nbformat_minor": 0,
  "metadata": {
    "colab": {
      "name": "theano_gpu_check_colab.ipynb",
      "provenance": [],
      "authorship_tag": "ABX9TyPAjCT+7wcuDy9hpx0dds8m",
      "include_colab_link": true
    },
    "kernelspec": {
      "name": "python3",
      "display_name": "Python 3"
    },
    "accelerator": "GPU"
  },
  "cells": [
    {
      "cell_type": "markdown",
      "metadata": {
        "id": "view-in-github",
        "colab_type": "text"
      },
      "source": [
        "<a href=\"https://colab.research.google.com/github/ctarrington/try-colab/blob/master/theano_gpu_check_colab.ipynb\" target=\"_parent\"><img src=\"https://colab.research.google.com/assets/colab-badge.svg\" alt=\"Open In Colab\"/></a>"
      ]
    },
    {
      "cell_type": "code",
      "metadata": {
        "id": "bvggH7wLXp_h",
        "colab_type": "code",
        "colab": {
          "base_uri": "https://localhost:8080/",
          "height": 85
        },
        "outputId": "30d1599a-a034-4d95-9b54-9cbfa07048ac"
      },
      "source": [
        "from theano import function, config, shared, tensor\n",
        "import numpy\n",
        "import time\n",
        "\n",
        "vlen = 10 * 30 * 768  # 10 x #cores x # threads per core\n",
        "iters = 1000\n",
        "\n",
        "rng = numpy.random.RandomState(22)\n",
        "x = shared(numpy.asarray(rng.rand(vlen), config.floatX))\n",
        "f = function([], tensor.exp(x))\n",
        "print(f.maker.fgraph.toposort())\n",
        "t0 = time.time()\n",
        "for i in range(iters):\n",
        "    r = f()\n",
        "t1 = time.time()\n",
        "print(\"Looping %d times took %f seconds\" % (iters, t1 - t0))\n",
        "print(\"Result is %s\" % (r,))\n",
        "if numpy.any([isinstance(x.op, tensor.Elemwise) and\n",
        "              ('Gpu' not in type(x.op).__name__)\n",
        "              for x in f.maker.fgraph.toposort()]):\n",
        "    print('Used the cpu')\n",
        "else:\n",
        "    print('Used the gpu')"
      ],
      "execution_count": 1,
      "outputs": [
        {
          "output_type": "stream",
          "text": [
            "[Elemwise{exp,no_inplace}(<TensorType(float64, vector)>)]\n",
            "Looping 1000 times took 3.330944 seconds\n",
            "Result is [1.23178032 1.61879341 1.52278065 ... 2.20771815 2.29967753 1.62323285]\n",
            "Used the cpu\n"
          ],
          "name": "stdout"
        }
      ]
    }
  ]
}