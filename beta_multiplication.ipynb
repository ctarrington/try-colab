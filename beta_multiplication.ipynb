{
  "nbformat": 4,
  "nbformat_minor": 0,
  "metadata": {
    "colab": {
      "name": "beta_multiplication.ipynb",
      "provenance": [],
      "include_colab_link": true
    },
    "kernelspec": {
      "name": "python3",
      "display_name": "Python 3"
    }
  },
  "cells": [
    {
      "cell_type": "markdown",
      "metadata": {
        "id": "view-in-github",
        "colab_type": "text"
      },
      "source": [
        "<a href=\"https://colab.research.google.com/github/ctarrington/try-colab/blob/master/beta_multiplication.ipynb\" target=\"_parent\"><img src=\"https://colab.research.google.com/assets/colab-badge.svg\" alt=\"Open In Colab\"/></a>"
      ]
    },
    {
      "cell_type": "code",
      "metadata": {
        "id": "oRZwjpMWXMtO",
        "colab_type": "code",
        "colab": {}
      },
      "source": [
        "from math import factorial\n",
        "import numpy as np\n",
        "from scipy.stats import beta\n",
        "\n",
        "from matplotlib.pyplot import plot, fill_between\n",
        "from IPython import display\n"
      ],
      "execution_count": 1,
      "outputs": []
    },
    {
      "cell_type": "code",
      "metadata": {
        "id": "I7M1ves3a1zM",
        "colab_type": "code",
        "colab": {}
      },
      "source": [
        "def comb(n,k):\n",
        "  return factorial(n)/(factorial(k) * factorial(n-k))"
      ],
      "execution_count": 2,
      "outputs": []
    },
    {
      "cell_type": "code",
      "metadata": {
        "id": "BltZxVQxNiYD",
        "colab_type": "code",
        "colab": {}
      },
      "source": [
        "def normalize(probabilities):\n",
        "  total = sum(probabilities)\n",
        "  return [p / total for p in probabilities]"
      ],
      "execution_count": 12,
      "outputs": []
    },
    {
      "cell_type": "code",
      "metadata": {
        "id": "dbZ1D6M6wxgw",
        "colab_type": "code",
        "colab": {}
      },
      "source": [
        "def binomial_p(n,k):\n",
        "  def distribution(single_trial_p):\n",
        "    return comb(n, k) * single_trial_p**k * (1-single_trial_p)**(n-k)\n",
        "\n",
        "  return distribution"
      ],
      "execution_count": 3,
      "outputs": []
    },
    {
      "cell_type": "code",
      "metadata": {
        "id": "_XP_VucUw48A",
        "colab_type": "code",
        "colab": {}
      },
      "source": [
        "num_points = 200\n",
        "trial_ps = [p/num_points for p in range(0,num_points+1, 1)]"
      ],
      "execution_count": 4,
      "outputs": []
    },
    {
      "cell_type": "markdown",
      "metadata": {
        "id": "WjWqkwTyLgUQ",
        "colab_type": "text"
      },
      "source": [
        "# Discrete hack first"
      ]
    },
    {
      "cell_type": "code",
      "metadata": {
        "id": "ABWzUp-mxUQY",
        "colab_type": "code",
        "colab": {}
      },
      "source": [
        "doomed  = binomial_p(200, 10)  # 200 try, 10 succeed\n",
        "lucky = binomial_p(100, 90)  # ninety percent success rate\n",
        "\n",
        "doomed_probs = normalize([doomed(p) for p in trial_ps])\n",
        "lucky_probs = normalize([lucky(p) for p in trial_ps])\n",
        "product_probs = normalize([doomed_p*lucky_p for doomed_p, lucky_p in zip(doomed_probs, lucky_probs)])"
      ],
      "execution_count": 33,
      "outputs": []
    },
    {
      "cell_type": "code",
      "metadata": {
        "id": "acYV1pI0MZO5",
        "colab_type": "code",
        "colab": {
          "base_uri": "https://localhost:8080/",
          "height": 282
        },
        "outputId": "d3cfecf8-5973-4a25-8db6-924c7e5ce0da"
      },
      "source": [
        "plot(trial_ps, doomed_probs)\n",
        "plot(trial_ps, lucky_probs) \n",
        "plot(trial_ps, product_probs)"
      ],
      "execution_count": 34,
      "outputs": [
        {
          "output_type": "execute_result",
          "data": {
            "text/plain": [
              "[<matplotlib.lines.Line2D at 0x7fd7651610b8>]"
            ]
          },
          "metadata": {
            "tags": []
          },
          "execution_count": 34
        },
        {
          "output_type": "display_data",
          "data": {
            "image/png": "[encoded data removed]",
            "text/plain": [
              "<Figure size 432x288 with 1 Axes>"
            ]
          },
          "metadata": {
            "tags": [],
            "needs_background": "light"
          }
        }
      ]
    },
    {
      "cell_type": "code",
      "metadata": {
        "id": "Ufmb2AC5NAQb",
        "colab_type": "code",
        "colab": {}
      },
      "source": [
        ""
      ],
      "execution_count": null,
      "outputs": []
    }
  ]
}