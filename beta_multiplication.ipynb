{
  "nbformat": 4,
  "nbformat_minor": 0,
  "metadata": {
    "colab": {
      "name": "beta_multiplication.ipynb",
      "provenance": [],
      "include_colab_link": true
    },
    "kernelspec": {
      "name": "python3",
      "display_name": "Python 3"
    }
  },
  "cells": [
    {
      "cell_type": "markdown",
      "metadata": {
        "id": "view-in-github",
        "colab_type": "text"
      },
      "source": [
        "<a href=\"https://colab.research.google.com/github/ctarrington/try-colab/blob/master/beta_multiplication.ipynb\" target=\"_parent\"><img src=\"https://colab.research.google.com/assets/colab-badge.svg\" alt=\"Open In Colab\"/></a>"
      ]
    },
    {
      "cell_type": "code",
      "metadata": {
        "id": "oRZwjpMWXMtO",
        "colab_type": "code",
        "colab": {}
      },
      "source": [
        "from math import factorial\n",
        "import numpy as np\n",
        "from scipy.stats import beta\n",
        "\n",
        "from matplotlib.pyplot import plot, fill_between\n",
        "from IPython import display\n"
      ],
      "execution_count": 1,
      "outputs": []
    },
    {
      "cell_type": "code",
      "metadata": {
        "id": "I7M1ves3a1zM",
        "colab_type": "code",
        "colab": {}
      },
      "source": [
        "def comb(n,k):\n",
        "  return factorial(n)/(factorial(k) * factorial(n-k))"
      ],
      "execution_count": 2,
      "outputs": []
    },
    {
      "cell_type": "code",
      "metadata": {
        "id": "BltZxVQxNiYD",
        "colab_type": "code",
        "colab": {}
      },
      "source": [
        "def normalize(probabilities):\n",
        "  total = sum(probabilities)\n",
        "  return [p / total for p in probabilities]"
      ],
      "execution_count": 3,
      "outputs": []
    },
    {
      "cell_type": "code",
      "metadata": {
        "id": "dbZ1D6M6wxgw",
        "colab_type": "code",
        "colab": {}
      },
      "source": [
        "def binomial_p(n,k):\n",
        "  def distribution(single_trial_p):\n",
        "    return comb(n, k) * single_trial_p**k * (1-single_trial_p)**(n-k)\n",
        "\n",
        "  return distribution"
      ],
      "execution_count": 4,
      "outputs": []
    },
    {
      "cell_type": "code",
      "metadata": {
        "id": "_XP_VucUw48A",
        "colab_type": "code",
        "colab": {}
      },
      "source": [
        "num_points = 20*1000\n",
        "trial_ps = [p/num_points for p in range(0,num_points+1, 1)]"
      ],
      "execution_count": 5,
      "outputs": []
    },
    {
      "cell_type": "markdown",
      "metadata": {
        "id": "WjWqkwTyLgUQ",
        "colab_type": "text"
      },
      "source": [
        "# Discrete hack first (DO NOT REALLY USE THIS TECHNIQUE)"
      ]
    },
    {
      "cell_type": "code",
      "metadata": {
        "id": "ABWzUp-mxUQY",
        "colab_type": "code",
        "colab": {}
      },
      "source": [
        "doomed  = binomial_p(200, 10)  # 200 try, 10 succeed, 190 fail\n",
        "lucky = binomial_p(100, 90)  # ninety percent success rate\n",
        "\n",
        "doomed_probs = normalize([doomed(p) for p in trial_ps])\n",
        "lucky_probs = normalize([lucky(p) for p in trial_ps])\n",
        "\n",
        "# multiply each discrete probability to approximate the product of two distributions\n",
        "product_probs = normalize([doomed_p*lucky_p for doomed_p, lucky_p in zip(doomed_probs, lucky_probs)])"
      ],
      "execution_count": 6,
      "outputs": []
    },
    {
      "cell_type": "code",
      "metadata": {
        "id": "acYV1pI0MZO5",
        "colab_type": "code",
        "colab": {
          "base_uri": "https://localhost:8080/",
          "height": 282
        },
        "outputId": "4b88fb5b-787d-40e8-cf51-99133df528db"
      },
      "source": [
        "plot(trial_ps, doomed_probs)\n",
        "plot(trial_ps, lucky_probs) \n",
        "plot(trial_ps, product_probs)"
      ],
      "execution_count": 7,
      "outputs": [
        {
          "output_type": "execute_result",
          "data": {
            "text/plain": [
              "[<matplotlib.lines.Line2D at 0x7f01e0e68ef0>]"
            ]
          },
          "metadata": {
            "tags": []
          },
          "execution_count": 7
        },
        {
          "output_type": "display_data",
          "data": {
            "image/png": "[encoded data removed]",
            "text/plain": [
              "<Figure size 432x288 with 1 Axes>"
            ]
          },
          "metadata": {
            "tags": [],
            "needs_background": "light"
          }
        }
      ]
    },
    {
      "cell_type": "markdown",
      "metadata": {
        "id": "r4XXQP6SU4XB",
        "colab_type": "text"
      },
      "source": [
        "##What does it mean to multiply two binomial distributions?\n",
        "\n",
        "The shape of each curve is determined by $p^k (1-p)^{(n-k)}$\n",
        "\n",
        "So if we multiply two distributions    \n",
        "$p^{k1}(1-p)^{n1-k1} p^{k2}(1-p)^{n2-k2}$\n",
        "We get   \n",
        "\n",
        "$p^{k1+k2}(1-p)^{(n1+n2)-(k1+k2)}$\n",
        "\n",
        "Which simplifies to a non-normalized form of Binomial(n1+n2, k1+k2)\n"
      ]
    },
    {
      "cell_type": "code",
      "metadata": {
        "id": "Ufmb2AC5NAQb",
        "colab_type": "code",
        "colab": {
          "base_uri": "https://localhost:8080/",
          "height": 282
        },
        "outputId": "f8d9e60a-ffc9-44bf-e198-8bf371214a42"
      },
      "source": [
        "added_parameters = binomial_p(300, 100)\n",
        "added_parameters_probs = normalize([added_parameters(p) for p in trial_ps])\n",
        "\n",
        "plot(trial_ps, doomed_probs)\n",
        "plot(trial_ps, lucky_probs) \n",
        "plot(trial_ps, added_parameters_probs)"
      ],
      "execution_count": 8,
      "outputs": [
        {
          "output_type": "execute_result",
          "data": {
            "text/plain": [
              "[<matplotlib.lines.Line2D at 0x7f01e0720438>]"
            ]
          },
          "metadata": {
            "tags": []
          },
          "execution_count": 8
        },
        {
          "output_type": "display_data",
          "data": {
            "image/png": "[encoded data removed]",
            "text/plain": [
              "<Figure size 432x288 with 1 Axes>"
            ]
          },
          "metadata": {
            "tags": [],
            "needs_background": "light"
          }
        }
      ]
    },
    {
      "cell_type": "markdown",
      "metadata": {
        "id": "qnETxVUJ12yf",
        "colab_type": "text"
      },
      "source": [
        "## SciPy's Beta distribution for the win\n",
        "If we want accurate results in a timely manner and with less code"
      ]
    },
    {
      "cell_type": "code",
      "metadata": {
        "id": "y0drdYtgTF6S",
        "colab_type": "code",
        "colab": {}
      },
      "source": [
        "doomed_rv = beta(10, 190)\n",
        "lucky_rv = beta(90, 10)\n",
        "product_rv = beta(100, 200)"
      ],
      "execution_count": 9,
      "outputs": []
    },
    {
      "cell_type": "code",
      "metadata": {
        "id": "To8otf85v7Xh",
        "colab_type": "code",
        "colab": {
          "base_uri": "https://localhost:8080/",
          "height": 282
        },
        "outputId": "7a184b37-7cda-49b0-e863-8bee13a07598"
      },
      "source": [
        "plot(trial_ps, doomed_rv.pdf(trial_ps))\n",
        "plot(trial_ps, lucky_rv.pdf(trial_ps))\n",
        "plot(trial_ps, product_rv.pdf(trial_ps))\n"
      ],
      "execution_count": 10,
      "outputs": [
        {
          "output_type": "execute_result",
          "data": {
            "text/plain": [
              "[<matplotlib.lines.Line2D at 0x7f01e06c0780>]"
            ]
          },
          "metadata": {
            "tags": []
          },
          "execution_count": 10
        },
        {
          "output_type": "display_data",
          "data": {
            "image/png": "[encoded data removed]",
            "text/plain": [
              "<Figure size 432x288 with 1 Axes>"
            ]
          },
          "metadata": {
            "tags": [],
            "needs_background": "light"
          }
        }
      ]
    },
    {
      "cell_type": "markdown",
      "metadata": {
        "id": "ZUGsxC7oxy1U",
        "colab_type": "text"
      },
      "source": [
        "##Note: The shapes are very similar. The scales are completely different - as the curves get spiky the discrete approximation requires more and more points to work well. The discrete approximation is interesting but unless you have an hour to let it grind through a zillion points I wouldn't use the numbers it produces..."
      ]
    },
    {
      "cell_type": "code",
      "metadata": {
        "id": "TmkVAHobwdPO",
        "colab_type": "code",
        "colab": {
          "base_uri": "https://localhost:8080/",
          "height": 282
        },
        "outputId": "ac8f0d42-023b-4e33-e817-e6450f6140d4"
      },
      "source": [
        "### Sample from Bayesian Statistics the Fun Way\n",
        "doomed_rv = beta(2, 7440)\n",
        "lucky_rv = beta(20000, 1)\n",
        "\n",
        "plot(trial_ps, doomed_rv.pdf(trial_ps))\n",
        "plot(trial_ps, lucky_rv.pdf(trial_ps))\n",
        "\n"
      ],
      "execution_count": 11,
      "outputs": [
        {
          "output_type": "execute_result",
          "data": {
            "text/plain": [
              "[<matplotlib.lines.Line2D at 0x7f01e06de630>]"
            ]
          },
          "metadata": {
            "tags": []
          },
          "execution_count": 11
        },
        {
          "output_type": "display_data",
          "data": {
            "image/png": "[encoded data removed]",
            "text/plain": [
              "<Figure size 432x288 with 1 Axes>"
            ]
          },
          "metadata": {
            "tags": [],
            "needs_background": "light"
          }
        }
      ]
    },
    {
      "cell_type": "code",
      "metadata": {
        "id": "t8okK3wazoaz",
        "colab_type": "code",
        "colab": {
          "base_uri": "https://localhost:8080/",
          "height": 282
        },
        "outputId": "ba6feeda-b5d5-4ce7-a729-ae4e9140e5ae"
      },
      "source": [
        "product_rv = beta(20002, 7441)\n",
        "plot(trial_ps, product_rv.pdf(trial_ps))"
      ],
      "execution_count": 12,
      "outputs": [
        {
          "output_type": "execute_result",
          "data": {
            "text/plain": [
              "[<matplotlib.lines.Line2D at 0x7f01e061b128>]"
            ]
          },
          "metadata": {
            "tags": []
          },
          "execution_count": 12
        },
        {
          "output_type": "display_data",
          "data": {
            "image/png": "[encoded data removed]",
            "text/plain": [
              "<Figure size 432x288 with 1 Axes>"
            ]
          },
          "metadata": {
            "tags": [],
            "needs_background": "light"
          }
        }
      ]
    },
    {
      "cell_type": "code",
      "metadata": {
        "id": "g-pVdMDfzzJN",
        "colab_type": "code",
        "colab": {
          "base_uri": "https://localhost:8080/",
          "height": 282
        },
        "outputId": "12001600-196c-4617-edf3-a84fab3a6494"
      },
      "source": [
        "some_points = trial_ps[round(0.6*num_points):round(0.8*num_points)]\n",
        "plot(some_points, product_rv.pdf(some_points))"
      ],
      "execution_count": 13,
      "outputs": [
        {
          "output_type": "execute_result",
          "data": {
            "text/plain": [
              "[<matplotlib.lines.Line2D at 0x7f01e05822e8>]"
            ]
          },
          "metadata": {
            "tags": []
          },
          "execution_count": 13
        },
        {
          "output_type": "display_data",
          "data": {
            "image/png": "[encoded data removed]",
            "text/plain": [
              "<Figure size 432x288 with 1 Axes>"
            ]
          },
          "metadata": {
            "tags": [],
            "needs_background": "light"
          }
        }
      ]
    },
    {
      "cell_type": "code",
      "metadata": {
        "id": "5TukwNHR05gQ",
        "colab_type": "code",
        "colab": {}
      },
      "source": [
        ""
      ],
      "execution_count": 13,
      "outputs": []
    }
  ]
}