{
  "nbformat": 4,
  "nbformat_minor": 0,
  "metadata": {
    "colab": {
      "name": "parameter_estimation.ipynb",
      "provenance": [],
      "authorship_tag": "ABX9TyMGKURJ3mnLWS+WzMN0d5pj",
      "include_colab_link": true
    },
    "kernelspec": {
      "name": "python3",
      "display_name": "Python 3"
    }
  },
  "cells": [
    {
      "cell_type": "markdown",
      "metadata": {
        "id": "view-in-github",
        "colab_type": "text"
      },
      "source": [
        "<a href=\"https://colab.research.google.com/github/ctarrington/try-colab/blob/master/parameter_estimation.ipynb\" target=\"_parent\"><img src=\"https://colab.research.google.com/assets/colab-badge.svg\" alt=\"Open In Colab\"/></a>"
      ]
    },
    {
      "cell_type": "code",
      "metadata": {
        "id": "_DHN4TNe0lnK",
        "colab_type": "code",
        "colab": {}
      },
      "source": [
        "import numpy as np\n",
        "from scipy.stats import beta\n",
        "\n",
        "from matplotlib.pyplot import plot, fill_between, vlines, hlines"
      ],
      "execution_count": 1,
      "outputs": []
    },
    {
      "cell_type": "code",
      "metadata": {
        "id": "IQ0JNare2bTf",
        "colab_type": "code",
        "colab": {
          "base_uri": "https://localhost:8080/",
          "height": 316
        },
        "outputId": "12f06b83-12a3-4858-bd04-644055064384"
      },
      "source": [
        "rv = beta(300, 39700)\n",
        "\n",
        "[fifthPercentile, ninetyFithPercentile] = rv.ppf([0.05, 0.95])\n",
        "print('90 percent confidence interval', fifthPercentile, ' to ', ninetyFithPercentile)\n",
        "median = rv.median()\n",
        "print('mean: ', rv.mean(), ' median: ', median)\n",
        "ps = np.linspace(0.006, 0.009, 200)\n",
        "plot(ps, rv.pdf(ps))\n",
        "vlines(fifthPercentile, 0, rv.pdf(fifthPercentile))\n",
        "vlines(median, 0, rv.pdf(median), colors='red')\n",
        "vlines(ninetyFithPercentile, 0, rv.pdf(ninetyFithPercentile))\n"
      ],
      "execution_count": 17,
      "outputs": [
        {
          "output_type": "stream",
          "text": [
            "90 percent confidence interval 0.006804714122615158  to  0.00822328065362432\n",
            "mean:  0.0075  median:  0.007491793171661221\n"
          ],
          "name": "stdout"
        },
        {
          "output_type": "execute_result",
          "data": {
            "text/plain": [
              "<matplotlib.collections.LineCollection at 0x7fc1db7ffba8>"
            ]
          },
          "metadata": {
            "tags": []
          },
          "execution_count": 17
        },
        {
          "output_type": "display_data",
          "data": {
            "image/png": "[encoded data removed]",
            "text/plain": [
              "<Figure size 432x288 with 1 Axes>"
            ]
          },
          "metadata": {
            "tags": [],
            "needs_background": "light"
          }
        }
      ]
    },
    {
      "cell_type": "code",
      "metadata": {
        "id": "-ktzwST72k-S",
        "colab_type": "code",
        "colab": {
          "base_uri": "https://localhost:8080/",
          "height": 299
        },
        "outputId": "e5812ea0-5e97-406a-dac8-1905ac5c7a34"
      },
      "source": [
        "print('Probability ', fifthPercentile, ' < p < ', ninetyFithPercentile, ' = ', rv.cdf(ninetyFithPercentile) - rv.cdf(fifthPercentile))\n",
        "\n",
        "plot(ps, rv.cdf(ps))\n",
        "hlines(0.05, 0.006, fifthPercentile)\n",
        "vlines(fifthPercentile, 0, 0.05)\n",
        "\n",
        "hlines(0.5, 0.006, median, colors='red')\n",
        "vlines(median, 0, 0.5, colors='red')\n",
        "\n",
        "hlines(0.95, 0.006, ninetyFithPercentile)\n",
        "vlines(ninetyFithPercentile, 0, 0.95)"
      ],
      "execution_count": 24,
      "outputs": [
        {
          "output_type": "stream",
          "text": [
            "Probability  0.006804714122615158  < p <  0.00822328065362432  =  0.9000000000000353\n"
          ],
          "name": "stdout"
        },
        {
          "output_type": "execute_result",
          "data": {
            "text/plain": [
              "<matplotlib.collections.LineCollection at 0x7fc1db656208>"
            ]
          },
          "metadata": {
            "tags": []
          },
          "execution_count": 24
        },
        {
          "output_type": "display_data",
          "data": {
            "image/png": "[encoded data removed]",
            "text/plain": [
              "<Figure size 432x288 with 1 Axes>"
            ]
          },
          "metadata": {
            "tags": [],
            "needs_background": "light"
          }
        }
      ]
    },
    {
      "cell_type": "code",
      "metadata": {
        "id": "L2U6vfpx41RW",
        "colab_type": "code",
        "colab": {}
      },
      "source": [
        ""
      ],
      "execution_count": 3,
      "outputs": []
    }
  ]
}