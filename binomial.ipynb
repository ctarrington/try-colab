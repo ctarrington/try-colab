{
  "nbformat": 4,
  "nbformat_minor": 0,
  "metadata": {
    "colab": {
      "name": "binomial.ipynb",
      "provenance": [],
      "authorship_tag": "ABX9TyN//6t/VtMwv3N/1t4BeYyH",
      "include_colab_link": true
    },
    "kernelspec": {
      "name": "python3",
      "display_name": "Python 3"
    }
  },
  "cells": [
    {
      "cell_type": "markdown",
      "metadata": {
        "id": "view-in-github",
        "colab_type": "text"
      },
      "source": [
        "<a href=\"https://colab.research.google.com/github/ctarrington/try-colab/blob/master/binomial.ipynb\" target=\"_parent\"><img src=\"https://colab.research.google.com/assets/colab-badge.svg\" alt=\"Open In Colab\"/></a>"
      ]
    },
    {
      "cell_type": "code",
      "metadata": {
        "id": "oRZwjpMWXMtO",
        "colab_type": "code",
        "colab": {}
      },
      "source": [
        "from math import factorial\n",
        "from matplotlib.pyplot import plot\n"
      ],
      "execution_count": 0,
      "outputs": []
    },
    {
      "cell_type": "markdown",
      "metadata": {
        "id": "RNZJXzv3IY82",
        "colab_type": "text"
      },
      "source": [
        "Given a set of n items how many distinct subsets of size k can you form? Order does not matter.   \n",
        "\n",
        "Spoken as \"n choose k\"  \n",
        "\n",
        "Written as \n",
        "$n \\choose k$ = $ \\frac{n!}{k! (n-k)!}$"
      ]
    },
    {
      "cell_type": "code",
      "metadata": {
        "id": "I7M1ves3a1zM",
        "colab_type": "code",
        "colab": {}
      },
      "source": [
        "def comb(n,k):\n",
        "  return factorial(n)/(factorial(k) * factorial(n-k))"
      ],
      "execution_count": 0,
      "outputs": []
    },
    {
      "cell_type": "markdown",
      "metadata": {
        "id": "FkT0aUMCMjj3",
        "colab_type": "text"
      },
      "source": [
        "There are 10 ways to choose 1 thing from 10 things.  \n",
        "There is only one way to choose 10 things from a set of 10 things.  \n",
        "There are 252 ways to choose 5 things from a set of 10 things.\n"
      ]
    },
    {
      "cell_type": "code",
      "metadata": {
        "id": "hzZzFQnaM-DI",
        "colab_type": "code",
        "colab": {
          "base_uri": "https://localhost:8080/",
          "height": 68
        },
        "outputId": "1455dcc8-5034-4125-9ff6-3147a51155aa"
      },
      "source": [
        "print('comb(10, 1) = ', int(comb(10, 1)))\n",
        "print('comb(10, 10) = ', int(comb(10, 10)))\n",
        "print('comb(10, 5) = ', int(comb(10, 5)))"
      ],
      "execution_count": 21,
      "outputs": [
        {
          "output_type": "stream",
          "text": [
            "comb(10, 1) =  10\n",
            "comb(10, 10) =  1\n",
            "comb(10, 5) =  252\n"
          ],
          "name": "stdout"
        }
      ]
    },
    {
      "cell_type": "code",
      "metadata": {
        "id": "nYoQERWQLPe3",
        "colab_type": "code",
        "colab": {
          "base_uri": "https://localhost:8080/",
          "height": 282
        },
        "outputId": "19b308d1-3607-401f-9419-e96f19564eb5"
      },
      "source": [
        "xs = range(1,11)\n",
        "ys = [comb(10, k) for k in xs]\n",
        "plot(xs, ys)"
      ],
      "execution_count": 9,
      "outputs": [
        {
          "output_type": "execute_result",
          "data": {
            "text/plain": [
              "[<matplotlib.lines.Line2D at 0x7fbf1ba4ddd8>]"
            ]
          },
          "metadata": {
            "tags": []
          },
          "execution_count": 9
        },
        {
          "output_type": "display_data",
          "data": {
            "image/png": "[encoded data removed]",
            "text/plain": [
              "<Figure size 432x288 with 1 Axes>"
            ]
          },
          "metadata": {
            "tags": [],
            "needs_background": "light"
          }
        }
      ]
    },
    {
      "cell_type": "code",
      "metadata": {
        "id": "HfvVaNh4cFdk",
        "colab_type": "code",
        "colab": {}
      },
      "source": [
        "def binomial(n,p):\n",
        "  def distribution(k):\n",
        "    return comb(n, k) * p**k * (1-p)**(n-k)\n",
        "\n",
        "  return distribution"
      ],
      "execution_count": 0,
      "outputs": []
    },
    {
      "cell_type": "code",
      "metadata": {
        "id": "0YtB-rn3cKca",
        "colab_type": "code",
        "outputId": "826c26cf-a913-491c-de3d-76dd15ad6663",
        "colab": {
          "base_uri": "https://localhost:8080/",
          "height": 35
        }
      },
      "source": [
        "binomial(10, 1/13)(5)"
      ],
      "execution_count": 0,
      "outputs": [
        {
          "output_type": "execute_result",
          "data": {
            "text/plain": [
              "0.0004548552879040863"
            ]
          },
          "metadata": {
            "tags": []
          },
          "execution_count": 12
        }
      ]
    },
    {
      "cell_type": "code",
      "metadata": {
        "id": "PlyRghzadNj5",
        "colab_type": "code",
        "colab": {}
      },
      "source": [
        "p = binomial(7,1/5)"
      ],
      "execution_count": 0,
      "outputs": []
    },
    {
      "cell_type": "code",
      "metadata": {
        "id": "SNnp5vFsdmre",
        "colab_type": "code",
        "outputId": "49f7cc66-9e00-4433-ff43-20cfadcba679",
        "colab": {
          "base_uri": "https://localhost:8080/",
          "height": 35
        }
      },
      "source": [
        "sum([p(k) for k in range(2,8)])"
      ],
      "execution_count": 0,
      "outputs": [
        {
          "output_type": "execute_result",
          "data": {
            "text/plain": [
              "0.4232832000000002"
            ]
          },
          "metadata": {
            "tags": []
          },
          "execution_count": 14
        }
      ]
    },
    {
      "cell_type": "code",
      "metadata": {
        "id": "Q1bLpn2vdq_i",
        "colab_type": "code",
        "colab": {}
      },
      "source": [
        "p2 = binomial(25,1/10)\n"
      ],
      "execution_count": 0,
      "outputs": []
    },
    {
      "cell_type": "code",
      "metadata": {
        "id": "l62BSbwtfTCh",
        "colab_type": "code",
        "outputId": "c3ebf291-708a-4358-8a24-aa85bdf41fb9",
        "colab": {
          "base_uri": "https://localhost:8080/",
          "height": 35
        }
      },
      "source": [
        "sum([p2(k) for k in range(2,25)])"
      ],
      "execution_count": 0,
      "outputs": [
        {
          "output_type": "execute_result",
          "data": {
            "text/plain": [
              "0.7287940935386341"
            ]
          },
          "metadata": {
            "tags": []
          },
          "execution_count": 16
        }
      ]
    },
    {
      "cell_type": "code",
      "metadata": {
        "id": "PQsYotR5fi0h",
        "colab_type": "code",
        "colab": {}
      },
      "source": [
        ""
      ],
      "execution_count": 0,
      "outputs": []
    }
  ]
}