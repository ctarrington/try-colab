{
  "nbformat": 4,
  "nbformat_minor": 0,
  "metadata": {
    "colab": {
      "name": "binomial.ipynb",
      "provenance": [],
      "authorship_tag": "ABX9TyOI7gDWYXbmhOwdMDqQYeBA",
      "include_colab_link": true
    },
    "kernelspec": {
      "name": "python3",
      "display_name": "Python 3"
    }
  },
  "cells": [
    {
      "cell_type": "markdown",
      "metadata": {
        "id": "view-in-github",
        "colab_type": "text"
      },
      "source": [
        "<a href=\"https://colab.research.google.com/github/ctarrington/try-colab/blob/master/binomial.ipynb\" target=\"_parent\"><img src=\"https://colab.research.google.com/assets/colab-badge.svg\" alt=\"Open In Colab\"/></a>"
      ]
    },
    {
      "cell_type": "code",
      "metadata": {
        "id": "oRZwjpMWXMtO",
        "colab_type": "code",
        "colab": {}
      },
      "source": [
        "from math import factorial\n",
        "from matplotlib.pyplot import plot\n",
        "from IPython import display\n"
      ],
      "execution_count": 0,
      "outputs": []
    },
    {
      "cell_type": "markdown",
      "metadata": {
        "id": "RNZJXzv3IY82",
        "colab_type": "text"
      },
      "source": [
        "#Combinations\n",
        "Given a set of n items how many distinct subsets of size k can you form? Order does not matter. \n",
        "\n",
        "EX: How many pairs of fruit can you pick from {apple, banana, pear}?\n",
        "\n",
        "Spoken as \"n choose k\"  \n",
        "\n",
        "Written as \n",
        "$n \\choose k$ = $ \\frac{n!}{k! (n-k)!}$"
      ]
    },
    {
      "cell_type": "code",
      "metadata": {
        "id": "I7M1ves3a1zM",
        "colab_type": "code",
        "colab": {}
      },
      "source": [
        "def comb(n,k):\n",
        "  return factorial(n)/(factorial(k) * factorial(n-k))"
      ],
      "execution_count": 0,
      "outputs": []
    },
    {
      "cell_type": "markdown",
      "metadata": {
        "id": "FkT0aUMCMjj3",
        "colab_type": "text"
      },
      "source": [
        "There are 10 ways to choose 1 thing from 10 things.  \n",
        "There is only one way to choose 10 things from a set of 10 things.  \n",
        "There are 252 ways to choose 5 things from a set of 10 things.\n"
      ]
    },
    {
      "cell_type": "code",
      "metadata": {
        "id": "hzZzFQnaM-DI",
        "colab_type": "code",
        "outputId": "dac7c678-52f4-4114-8ea8-bba222679b31",
        "colab": {
          "base_uri": "https://localhost:8080/",
          "height": 38
        }
      },
      "source": [
        "comb10_1 = '{10 \\choose 1 } = ' + str(int(comb(10, 1)))\n",
        "comb10_10 = '{10 \\choose 10 } = ' + str(int(comb(10, 10)))\n",
        "comb10_5 = '{10 \\choose 5 } = ' + str(int(comb(10, 5)))\n",
        "\n",
        "display.display(display.Math(comb10_1 +',  '+ comb10_10 +',  '+ comb10_5))"
      ],
      "execution_count": 12,
      "outputs": [
        {
          "output_type": "display_data",
          "data": {
            "text/latex": "$${10 \\choose 1 } = 10,  {10 \\choose 10 } = 1,  {10 \\choose 5 } = 252$$",
            "text/plain": [
              "<IPython.core.display.Math object>"
            ]
          },
          "metadata": {
            "tags": []
          }
        }
      ]
    },
    {
      "cell_type": "code",
      "metadata": {
        "id": "nYoQERWQLPe3",
        "colab_type": "code",
        "outputId": "3b279483-65db-44df-e073-c11b8be5cae3",
        "colab": {
          "base_uri": "https://localhost:8080/",
          "height": 282
        }
      },
      "source": [
        "xs = range(1,11)\n",
        "ys = [comb(10, k) for k in xs]\n",
        "plot(xs, ys, 'o')"
      ],
      "execution_count": 13,
      "outputs": [
        {
          "output_type": "execute_result",
          "data": {
            "text/plain": [
              "[<matplotlib.lines.Line2D at 0x7fb600df9278>]"
            ]
          },
          "metadata": {
            "tags": []
          },
          "execution_count": 13
        },
        {
          "output_type": "display_data",
          "data": {
            "image/png": "[encoded data removed]",
            "text/plain": [
              "<Figure size 432x288 with 1 Axes>"
            ]
          },
          "metadata": {
            "tags": [],
            "needs_background": "light"
          }
        }
      ]
    },
    {
      "cell_type": "markdown",
      "metadata": {
        "id": "KDxOMpeiSwZF",
        "colab_type": "text"
      },
      "source": [
        "# Binomial Distribution\n",
        "Given n binary trials, what is the probability of k sucesses assuming that the probability of sucess in a single trial is p?\n",
        "\n",
        "Binomial = ${n \\choose k} p^k (1-p)^{(n-k)}$"
      ]
    },
    {
      "cell_type": "code",
      "metadata": {
        "id": "HfvVaNh4cFdk",
        "colab_type": "code",
        "colab": {}
      },
      "source": [
        "def binomial(n,p):\n",
        "  def distribution(k):\n",
        "    return comb(n, k) * p**k * (1-p)**(n-k)\n",
        "\n",
        "  return distribution"
      ],
      "execution_count": 0,
      "outputs": []
    },
    {
      "cell_type": "markdown",
      "metadata": {
        "id": "U4ogupV21Cyk",
        "colab_type": "text"
      },
      "source": [
        "## Examples"
      ]
    },
    {
      "cell_type": "code",
      "metadata": {
        "id": "PlyRghzadNj5",
        "colab_type": "code",
        "colab": {}
      },
      "source": [
        "# n = 7, p = 1/5\n",
        "p = binomial(7,1/5)"
      ],
      "execution_count": 0,
      "outputs": []
    },
    {
      "cell_type": "code",
      "metadata": {
        "id": "SNnp5vFsdmre",
        "colab_type": "code",
        "outputId": "af7359b1-4047-4ebc-d6c1-69562e0049ab",
        "colab": {
          "base_uri": "https://localhost:8080/",
          "height": 34
        }
      },
      "source": [
        "# Probability of at least 2 sucesses\n",
        "sum([p(k) for k in range(2,8)])"
      ],
      "execution_count": 16,
      "outputs": [
        {
          "output_type": "execute_result",
          "data": {
            "text/plain": [
              "0.4232832000000002"
            ]
          },
          "metadata": {
            "tags": []
          },
          "execution_count": 16
        }
      ]
    },
    {
      "cell_type": "code",
      "metadata": {
        "id": "Q1bLpn2vdq_i",
        "colab_type": "code",
        "colab": {}
      },
      "source": [
        "# n = 25, p = 1/10\n",
        "p2 = binomial(25,1/10)\n"
      ],
      "execution_count": 0,
      "outputs": []
    },
    {
      "cell_type": "code",
      "metadata": {
        "id": "l62BSbwtfTCh",
        "colab_type": "code",
        "outputId": "c0a34d16-e68b-495c-c79a-6ed943795d9e",
        "colab": {
          "base_uri": "https://localhost:8080/",
          "height": 34
        }
      },
      "source": [
        "# Probability of at least 2 sucesses\n",
        "sum([p2(k) for k in range(2,26)])"
      ],
      "execution_count": 18,
      "outputs": [
        {
          "output_type": "execute_result",
          "data": {
            "text/plain": [
              "0.7287940935386341"
            ]
          },
          "metadata": {
            "tags": []
          },
          "execution_count": 18
        }
      ]
    },
    {
      "cell_type": "markdown",
      "metadata": {
        "id": "yeyaaLi7v7oi",
        "colab_type": "text"
      },
      "source": [
        "# Working Backwards\n",
        "Given a sample outcome, what can we learn about the single trial probability of sucess?\n",
        "\n",
        "EX: If we had 60 heads in 100 trials what does that tell us about a single throw?\n",
        "\n"
      ]
    },
    {
      "cell_type": "code",
      "metadata": {
        "id": "dbZ1D6M6wxgw",
        "colab_type": "code",
        "colab": {}
      },
      "source": [
        "def binomial_p(n,k):\n",
        "  def distribution(p):\n",
        "    return comb(n, k) * p**k * (1-p)**(n-k)\n",
        "\n",
        "  return distribution"
      ],
      "execution_count": 0,
      "outputs": []
    },
    {
      "cell_type": "code",
      "metadata": {
        "id": "_XP_VucUw48A",
        "colab_type": "code",
        "colab": {}
      },
      "source": [
        "step = 1\n",
        "trial_ps = [p/1000 for p in range(0,1000+step, step)]"
      ],
      "execution_count": 0,
      "outputs": []
    },
    {
      "cell_type": "code",
      "metadata": {
        "id": "dzs93JBaxFSl",
        "colab_type": "code",
        "colab": {
          "base_uri": "https://localhost:8080/",
          "height": 282
        },
        "outputId": "8d7c00a5-1df0-46e0-b29c-3b27b1eafb9b"
      },
      "source": [
        "binomial_100_60 = binomial_p(100, 60)\n",
        "probabilities = [binomial_100_60(p) for p in trial_ps]\n",
        "plot(trial_ps, probabilities, 'o')"
      ],
      "execution_count": 29,
      "outputs": [
        {
          "output_type": "execute_result",
          "data": {
            "text/plain": [
              "[<matplotlib.lines.Line2D at 0x7fb60075b518>]"
            ]
          },
          "metadata": {
            "tags": []
          },
          "execution_count": 29
        },
        {
          "output_type": "display_data",
          "data": {
            "image/png": "[encoded data removed]",
            "text/plain": [
              "<Figure size 432x288 with 1 Axes>"
            ]
          },
          "metadata": {
            "tags": [],
            "needs_background": "light"
          }
        }
      ]
    },
    {
      "cell_type": "markdown",
      "metadata": {
        "id": "7qctb3bnzEI0",
        "colab_type": "text"
      },
      "source": [
        "Note: The shape is useful, but this is not a pmf - it doesn't integrate to 1.\n"
      ]
    },
    {
      "cell_type": "code",
      "metadata": {
        "id": "1Xi3wPJpxYh_",
        "colab_type": "code",
        "colab": {
          "base_uri": "https://localhost:8080/",
          "height": 34
        },
        "outputId": "4e55e230-3258-4dc7-ebea-183fb4a6db86"
      },
      "source": [
        "sum(probabilities)"
      ],
      "execution_count": 30,
      "outputs": [
        {
          "output_type": "execute_result",
          "data": {
            "text/plain": [
              "9.90099009900989"
            ]
          },
          "metadata": {
            "tags": []
          },
          "execution_count": 30
        }
      ]
    },
    {
      "cell_type": "code",
      "metadata": {
        "id": "6ZZCfh37ywIx",
        "colab_type": "code",
        "colab": {}
      },
      "source": [
        ""
      ],
      "execution_count": 0,
      "outputs": []
    }
  ]
}