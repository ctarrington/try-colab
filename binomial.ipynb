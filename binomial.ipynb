{
  "nbformat": 4,
  "nbformat_minor": 0,
  "metadata": {
    "colab": {
      "name": "binomial.ipynb",
      "provenance": [],
      "authorship_tag": "ABX9TyMmA9jXoc+em/40wTPfTnTe",
      "include_colab_link": true
    },
    "kernelspec": {
      "name": "python3",
      "display_name": "Python 3"
    }
  },
  "cells": [
    {
      "cell_type": "markdown",
      "metadata": {
        "id": "view-in-github",
        "colab_type": "text"
      },
      "source": [
        "<a href=\"https://colab.research.google.com/github/ctarrington/try-colab/blob/master/binomial.ipynb\" target=\"_parent\"><img src=\"https://colab.research.google.com/assets/colab-badge.svg\" alt=\"Open In Colab\"/></a>"
      ]
    },
    {
      "cell_type": "code",
      "metadata": {
        "id": "oRZwjpMWXMtO",
        "colab_type": "code",
        "colab": {}
      },
      "source": [
        "from math import factorial\n",
        "import numpy as np\n",
        "from scipy.stats import beta\n",
        "\n",
        "from matplotlib.pyplot import plot, fill_between\n",
        "from IPython import display\n"
      ],
      "execution_count": 0,
      "outputs": []
    },
    {
      "cell_type": "markdown",
      "metadata": {
        "id": "RNZJXzv3IY82",
        "colab_type": "text"
      },
      "source": [
        "#Combinations\n",
        "Given a set of n items how many distinct subsets of size k can you form? Order does not matter.\n",
        "\n",
        "EX: How many ways can you get 2 heads when tossing a coin 3 times?\n",
        "\n",
        "Spoken as \"n choose k\"  \n",
        "\n",
        "Written as \n",
        "$n \\choose k$ = $ \\frac{n!}{k! (n-k)!}$\n",
        "\n",
        "So for the example, $ 3 \\choose 2$ = $ \\frac 6 2 $ = 3\n",
        "\n",
        "{HHT, HTH, THH}\n",
        "\n",
        "Note: The \"order does not matter\" followed by an example where the order or position of the T seems to be the only difference seems contradictory. The most coherent explanation I have found is [combinations and permutations in coin tossing](https://math.stackexchange.com/questions/1243182/combinations-and-permutations-in-coin-tossing)"
      ]
    },
    {
      "cell_type": "code",
      "metadata": {
        "id": "I7M1ves3a1zM",
        "colab_type": "code",
        "colab": {}
      },
      "source": [
        "def comb(n,k):\n",
        "  return factorial(n)/(factorial(k) * factorial(n-k))"
      ],
      "execution_count": 0,
      "outputs": []
    },
    {
      "cell_type": "markdown",
      "metadata": {
        "id": "KDxOMpeiSwZF",
        "colab_type": "text"
      },
      "source": [
        "# Binomial Distribution\n",
        "Given n binary trials, what is the probability of k successes assuming that the probability of success in a single trial is p?\n",
        "\n",
        "If you got all of the successes first and then all of the failures the probability would be $ p^k (1-p)^{(n-k)}$   \n",
        "\n",
        "But the successes don't have to come first, there are many ways that we can get k successes in n trials. Specifically, there are $ n \\choose k $ ways.\n",
        "\n",
        "So, if the probability of success in a single trial is p then the total probability of k successes in n trials is:\n",
        "\n",
        "Binomial = ${n \\choose k} p^k (1-p)^{(n-k)}$"
      ]
    },
    {
      "cell_type": "code",
      "metadata": {
        "id": "HfvVaNh4cFdk",
        "colab_type": "code",
        "colab": {}
      },
      "source": [
        "def binomial(n,p):\n",
        "  def distribution(k):\n",
        "    return comb(n, k) * p**k * (1-p)**(n-k)\n",
        "\n",
        "  return distribution"
      ],
      "execution_count": 0,
      "outputs": []
    },
    {
      "cell_type": "markdown",
      "metadata": {
        "id": "U4ogupV21Cyk",
        "colab_type": "text"
      },
      "source": [
        "## Examples"
      ]
    },
    {
      "cell_type": "code",
      "metadata": {
        "id": "PlyRghzadNj5",
        "colab_type": "code",
        "colab": {}
      },
      "source": [
        "# n = 7, p = 1/5\n",
        "p = binomial(7,1/5)"
      ],
      "execution_count": 0,
      "outputs": []
    },
    {
      "cell_type": "code",
      "metadata": {
        "id": "SNnp5vFsdmre",
        "colab_type": "code",
        "outputId": "2e1b2cea-cb42-4ed6-c5d4-d0bb760a33ea",
        "colab": {
          "base_uri": "https://localhost:8080/",
          "height": 34
        }
      },
      "source": [
        "# Probability of at least 2 successes\n",
        "sum([p(k) for k in range(2,8)])"
      ],
      "execution_count": 5,
      "outputs": [
        {
          "output_type": "execute_result",
          "data": {
            "text/plain": [
              "0.4232832000000002"
            ]
          },
          "metadata": {
            "tags": []
          },
          "execution_count": 5
        }
      ]
    },
    {
      "cell_type": "code",
      "metadata": {
        "id": "Q1bLpn2vdq_i",
        "colab_type": "code",
        "colab": {}
      },
      "source": [
        "# n = 25, p = 1/10\n",
        "p2 = binomial(25,1/10)\n"
      ],
      "execution_count": 0,
      "outputs": []
    },
    {
      "cell_type": "code",
      "metadata": {
        "id": "l62BSbwtfTCh",
        "colab_type": "code",
        "outputId": "dee0c76c-b7ad-4944-9998-25bc0bad6a66",
        "colab": {
          "base_uri": "https://localhost:8080/",
          "height": 34
        }
      },
      "source": [
        "# Probability of at least 2 successes\n",
        "sum([p2(k) for k in range(2,26)])"
      ],
      "execution_count": 7,
      "outputs": [
        {
          "output_type": "execute_result",
          "data": {
            "text/plain": [
              "0.7287940935386341"
            ]
          },
          "metadata": {
            "tags": []
          },
          "execution_count": 7
        }
      ]
    },
    {
      "cell_type": "markdown",
      "metadata": {
        "id": "yeyaaLi7v7oi",
        "colab_type": "text"
      },
      "source": [
        "# Working Backwards from data\n",
        "Given a sample outcome, what can we learn about the single trial probability of success?\n",
        "\n",
        "EX: If we had 60 heads in 100 trials what does that tell us about a single throw?\n",
        "\n",
        "We generate a new function that takes the single trial probability as an argument and answers with the probabilty of getting the given number of successes in the given number of trials.\n",
        "\n"
      ]
    },
    {
      "cell_type": "code",
      "metadata": {
        "id": "dbZ1D6M6wxgw",
        "colab_type": "code",
        "colab": {}
      },
      "source": [
        "def binomial_p(n,k):\n",
        "  def distribution(single_trial_p):\n",
        "    return comb(n, k) * single_trial_p**k * (1-single_trial_p)**(n-k)\n",
        "\n",
        "  return distribution"
      ],
      "execution_count": 0,
      "outputs": []
    },
    {
      "cell_type": "code",
      "metadata": {
        "id": "_XP_VucUw48A",
        "colab_type": "code",
        "colab": {}
      },
      "source": [
        "num_points = 200\n",
        "trial_ps = [p/num_points for p in range(0,num_points+1, 1)]"
      ],
      "execution_count": 0,
      "outputs": []
    },
    {
      "cell_type": "code",
      "metadata": {
        "id": "dzs93JBaxFSl",
        "colab_type": "code",
        "outputId": "ac5b37f2-17ff-497e-faa4-30ffe7d1bf2c",
        "colab": {
          "base_uri": "https://localhost:8080/",
          "height": 282
        }
      },
      "source": [
        "binomial_100_60 = binomial_p(100, 60)\n",
        "probabilities = [binomial_100_60(p) for p in trial_ps]\n",
        "plot(trial_ps, probabilities, 'o')\n",
        "area_under_curve = sum(probabilities)\n",
        "print('Each dot indicates how likely the 60 successes in 100 trials is at the specified probability of a success in a single trial')\n"
      ],
      "execution_count": 10,
      "outputs": [
        {
          "output_type": "stream",
          "text": [
            "Each dot indicates how likely the 60 successes in 100 trials is at the specified probability of a success in a single trial\n"
          ],
          "name": "stdout"
        },
        {
          "output_type": "display_data",
          "data": {
            "image/png": "[encoded data removed]",
            "text/plain": [
              "<Figure size 432x288 with 1 Axes>"
            ]
          },
          "metadata": {
            "tags": [],
            "needs_background": "light"
          }
        }
      ]
    },
    {
      "cell_type": "markdown",
      "metadata": {
        "id": "7qctb3bnzEI0",
        "colab_type": "text"
      },
      "source": [
        "Note: The shape is useful, but this is not a pmf - it doesn't sum to 1.\n"
      ]
    },
    {
      "cell_type": "code",
      "metadata": {
        "id": "WhSXOMaH5iFq",
        "colab_type": "code",
        "outputId": "1a4521ae-0ddc-4644-fec3-31638d63dacf",
        "colab": {
          "base_uri": "https://localhost:8080/",
          "height": 34
        }
      },
      "source": [
        "print('approximate area under curve', area_under_curve)"
      ],
      "execution_count": 11,
      "outputs": [
        {
          "output_type": "stream",
          "text": [
            "approximate area under curve 1.9801980198019804\n"
          ],
          "name": "stdout"
        }
      ]
    },
    {
      "cell_type": "code",
      "metadata": {
        "id": "1Xi3wPJpxYh_",
        "colab_type": "code",
        "outputId": "4eddd3ec-4e1e-467f-8da3-ba434492f528",
        "colab": {
          "base_uri": "https://localhost:8080/",
          "height": 282
        }
      },
      "source": [
        "normalized_probabilities = [p/area_under_curve for p in probabilities]\n",
        "plot(trial_ps, normalized_probabilities, 'o')\n",
        "print('area under normalized curve', sum(normalized_probabilities))\n"
      ],
      "execution_count": 12,
      "outputs": [
        {
          "output_type": "stream",
          "text": [
            "area under normalized curve 0.9999999999999999\n"
          ],
          "name": "stdout"
        },
        {
          "output_type": "display_data",
          "data": {
            "image/png": "[encoded data removed]",
            "text/plain": [
              "<Figure size 432x288 with 1 Axes>"
            ]
          },
          "metadata": {
            "tags": [],
            "needs_background": "light"
          }
        }
      ]
    },
    {
      "cell_type": "markdown",
      "metadata": {
        "id": "UytuKf1z1XbO",
        "colab_type": "text"
      },
      "source": [
        "If our goal is the normalized distribution or pmf then we are doing extra work - each value is scaled up by the ${n \\choose k} $ then scaled by the sum of all of the values.   \n",
        "\n",
        "The shape of the curve is entirely determined by $p^k (1-p)^{(n-k)}$\n",
        "\n",
        "I wouldn't believe me either, let's try it out..."
      ]
    },
    {
      "cell_type": "code",
      "metadata": {
        "id": "6ZZCfh37ywIx",
        "colab_type": "code",
        "colab": {}
      },
      "source": [
        "def simplified_binomial_p(n,k):\n",
        "  def distribution(p):\n",
        "    return p**k * (1-p)**(n-k)\n",
        "\n",
        "  return distribution"
      ],
      "execution_count": 0,
      "outputs": []
    },
    {
      "cell_type": "code",
      "metadata": {
        "id": "4_41ZjQ82ev7",
        "colab_type": "code",
        "outputId": "9a4e9f3b-d367-4d9d-dc0b-5210738a0a3e",
        "colab": {
          "base_uri": "https://localhost:8080/",
          "height": 316
        }
      },
      "source": [
        "simplified_binomial_100_60 = simplified_binomial_p(100, 60)\n",
        "simplified_probabilities = [simplified_binomial_100_60(p) for p in trial_ps]\n",
        "area_under_simplified_curve = sum(simplified_probabilities)\n",
        "normalized_simplified_probablities = [p/area_under_simplified_curve for p in simplified_probabilities]\n",
        "\n",
        "print('approximate area under curve', area_under_simplified_curve)\n",
        "print('approximate area under normalized curve', sum(normalized_probabilities))\n",
        "\n",
        "plot(trial_ps, normalized_simplified_probablities, 'o')\n"
      ],
      "execution_count": 14,
      "outputs": [
        {
          "output_type": "stream",
          "text": [
            "approximate area under curve 1.4405385495391127e-28\n",
            "approximate area under normalized curve 0.9999999999999999\n"
          ],
          "name": "stdout"
        },
        {
          "output_type": "execute_result",
          "data": {
            "text/plain": [
              "[<matplotlib.lines.Line2D at 0x7f0c168709b0>]"
            ]
          },
          "metadata": {
            "tags": []
          },
          "execution_count": 14
        },
        {
          "output_type": "display_data",
          "data": {
            "image/png": "[encoded data removed]",
            "text/plain": [
              "<Figure size 432x288 with 1 Axes>"
            ]
          },
          "metadata": {
            "tags": [],
            "needs_background": "light"
          }
        }
      ]
    },
    {
      "cell_type": "code",
      "metadata": {
        "id": "N11TMK6W3P84",
        "colab_type": "code",
        "outputId": "72fe40f4-cafe-4a5b-be08-feefd82a7b22",
        "colab": {
          "base_uri": "https://localhost:8080/",
          "height": 34
        }
      },
      "source": [
        "print(normalized_probabilities[100], normalized_simplified_probablities[100])"
      ],
      "execution_count": 15,
      "outputs": [
        {
          "output_type": "stream",
          "text": [
            "0.005476152689377183 0.005476152689377183\n"
          ],
          "name": "stdout"
        }
      ]
    },
    {
      "cell_type": "markdown",
      "metadata": {
        "id": "uQc6j2cITKHw",
        "colab_type": "text"
      },
      "source": [
        "##Sample usage of normalized binomial\n",
        "\n",
        "Data is 4 heads in 10 flips\n",
        "What is the probability that the per trial probability of heads is more than 60%?"
      ]
    },
    {
      "cell_type": "code",
      "metadata": {
        "id": "sY_I37FV3myB",
        "colab_type": "code",
        "colab": {}
      },
      "source": [
        "num_points = 20*1000\n",
        "trial_ps = [p/num_points for p in range(0,num_points+1, 1)]\n",
        "\n",
        "simplified_binomial_10_4 = simplified_binomial_p(10, 4)\n",
        "simplified_probabilities = [simplified_binomial_10_4(p) for p in trial_ps]\n",
        "area_under_simplified_curve = sum(simplified_probabilities)\n",
        "normalized_simplified_probablities = [p/area_under_simplified_curve for p in simplified_probabilities]"
      ],
      "execution_count": 0,
      "outputs": []
    },
    {
      "cell_type": "code",
      "metadata": {
        "id": "HYhjY6-zUNvy",
        "colab_type": "code",
        "colab": {
          "base_uri": "https://localhost:8080/",
          "height": 299
        },
        "outputId": "3e1c5d4c-8de6-47c4-daab-3ffaf771f8c1"
      },
      "source": [
        "sixty_percent_of_points = round(num_points*.6)\n",
        "probs_less_than_60 = normalized_simplified_probablities[0:sixty_percent_of_points]\n",
        "fill_between(trial_ps[0:sixty_percent_of_points], probs_less_than_60)\n",
        "print('sum P(trial_p < 60 = ', sum(probs_less_than_60))\n",
        "\n",
        "probs_greater_than_60 = normalized_simplified_probablities[sixty_percent_of_points:]\n",
        "fill_between(trial_ps[sixty_percent_of_points:], probs_greater_than_60)\n",
        "print('sum P(trial_p > 60 = ', sum(probs_greater_than_60))"
      ],
      "execution_count": 17,
      "outputs": [
        {
          "output_type": "stream",
          "text": [
            "sum P(trial_p < 60 =  0.9006167657687058\n",
            "sum P(trial_p > 60 =  0.09938323423129579\n"
          ],
          "name": "stdout"
        },
        {
          "output_type": "display_data",
          "data": {
            "image/png": "[encoded data removed]",
            "text/plain": [
              "<Figure size 432x288 with 1 Axes>"
            ]
          },
          "metadata": {
            "tags": [],
            "needs_background": "light"
          }
        }
      ]
    },
    {
      "cell_type": "markdown",
      "metadata": {
        "id": "VSj3wJYtnUgh",
        "colab_type": "text"
      },
      "source": [
        "## Beta Distribution\n",
        "Our normalized discrete pmf from the Binomial distribution works. But of course there is a smoother and easier continous solution: The Beta distribution which gives you a nice PDF.\n",
        "\n",
        "Beta($ p, \\alpha, \\beta) = \\frac {p^{\\alpha-1} (1-p)^{\\beta-1}} {beta(\\alpha,\\beta)}$\n",
        "\n",
        "Where beta is $ \\int_0^1 p^{\\alpha-1} (1-p)^{\\beta-1} dp$\n",
        "\n",
        "Hopefully this looks familiar - our normalization of the Binomial was just numerical integration of the area under the Binomial curve and we too abandoned the $ n\\choose k $ when we normalized. \n",
        "\n",
        "I am going to wave my hands over the $ \\alpha-1 $ and $ \\beta-1 $ and walk away. It totally works... Python wouldn't lie..."
      ]
    },
    {
      "cell_type": "code",
      "metadata": {
        "id": "f78mfRzbjW28",
        "colab_type": "code",
        "colab": {
          "base_uri": "https://localhost:8080/",
          "height": 51
        },
        "outputId": "195d6b5f-72cc-4dfd-ae54-244bda887dde"
      },
      "source": [
        "from_beta = 1 - beta.cdf([.6], 4, 6)[0]\n",
        "print('per beta distribution, P(trial_p > 60) = ', from_beta)\n",
        "print('difference = ', from_beta - sum(probs_greater_than_60))"
      ],
      "execution_count": 18,
      "outputs": [
        {
          "output_type": "stream",
          "text": [
            "per beta distribution, P(trial_p > 60) =  0.09935257600000003\n",
            "difference =  -3.065823129576317e-05\n"
          ],
          "name": "stdout"
        }
      ]
    },
    {
      "cell_type": "markdown",
      "metadata": {
        "id": "oF7JG27BvDUI",
        "colab_type": "text"
      },
      "source": [
        "Data is 9 heads and 11 tails. What is the probability that the coin is fair by the definition of 0.45 < p < 0.55?"
      ]
    },
    {
      "cell_type": "code",
      "metadata": {
        "id": "UGTcCDjFksko",
        "colab_type": "code",
        "colab": {
          "base_uri": "https://localhost:8080/",
          "height": 34
        },
        "outputId": "034edb9f-69e1-485c-f2b4-748b70aacdfa"
      },
      "source": [
        "probabilities  = beta.cdf([0.45, 0.55], 9, 11)\n",
        "probabilities[1] - probabilities[0]\n"
      ],
      "execution_count": 22,
      "outputs": [
        {
          "output_type": "execute_result",
          "data": {
            "text/plain": [
              "0.3098800156513042"
            ]
          },
          "metadata": {
            "tags": []
          },
          "execution_count": 22
        }
      ]
    },
    {
      "cell_type": "markdown",
      "metadata": {
        "id": "rotpICT7wLjO",
        "colab_type": "text"
      },
      "source": [
        "Data is 109 heads and 111 tails. \n"
      ]
    },
    {
      "cell_type": "code",
      "metadata": {
        "id": "cfgRRWJcvf9A",
        "colab_type": "code",
        "colab": {
          "base_uri": "https://localhost:8080/",
          "height": 34
        },
        "outputId": "ed4d1e3f-a152-4695-8e3d-e57ec9bf2ef1"
      },
      "source": [
        "probabilities  = beta.cdf([0.45, 0.55], 109, 111)\n",
        "probabilities[1] - probabilities[0]"
      ],
      "execution_count": 23,
      "outputs": [
        {
          "output_type": "execute_result",
          "data": {
            "text/plain": [
              "0.8589371426532354"
            ]
          },
          "metadata": {
            "tags": []
          },
          "execution_count": 23
        }
      ]
    },
    {
      "cell_type": "code",
      "metadata": {
        "id": "_AUy68_7wY8T",
        "colab_type": "code",
        "colab": {
          "base_uri": "https://localhost:8080/",
          "height": 34
        },
        "outputId": "ef2cfc65-0cbc-4877-a75f-d06638ecbfd6"
      },
      "source": [
        "# could it happen with at least a 0.55 bias on the coin?\n",
        "probabilities  = beta.cdf([0.55, 1], 109, 111)\n",
        "probabilities[1] - probabilities[0]"
      ],
      "execution_count": 32,
      "outputs": [
        {
          "output_type": "execute_result",
          "data": {
            "text/plain": [
              "0.05256460037498634"
            ]
          },
          "metadata": {
            "tags": []
          },
          "execution_count": 32
        }
      ]
    },
    {
      "cell_type": "code",
      "metadata": {
        "id": "ABWzUp-mxUQY",
        "colab_type": "code",
        "colab": {}
      },
      "source": [
        ""
      ],
      "execution_count": 0,
      "outputs": []
    }
  ]
}