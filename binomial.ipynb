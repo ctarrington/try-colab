{
  "nbformat": 4,
  "nbformat_minor": 0,
  "metadata": {
    "colab": {
      "name": "binomial.ipynb",
      "provenance": [],
      "authorship_tag": "ABX9TyM2134rJrNJgSTyJQlEOIQZ",
      "include_colab_link": true
    },
    "kernelspec": {
      "name": "python3",
      "display_name": "Python 3"
    }
  },
  "cells": [
    {
      "cell_type": "markdown",
      "metadata": {
        "id": "view-in-github",
        "colab_type": "text"
      },
      "source": [
        "<a href=\"https://colab.research.google.com/github/ctarrington/try-colab/blob/master/binomial.ipynb\" target=\"_parent\"><img src=\"https://colab.research.google.com/assets/colab-badge.svg\" alt=\"Open In Colab\"/></a>"
      ]
    },
    {
      "cell_type": "code",
      "metadata": {
        "id": "oRZwjpMWXMtO",
        "colab_type": "code",
        "colab": {}
      },
      "source": [
        "from math import factorial\n",
        "from matplotlib.pyplot import plot\n",
        "from IPython import display\n"
      ],
      "execution_count": 0,
      "outputs": []
    },
    {
      "cell_type": "markdown",
      "metadata": {
        "id": "RNZJXzv3IY82",
        "colab_type": "text"
      },
      "source": [
        "#Combinations\n",
        "Given a set of n items how many distinct subsets of size k can you form? Order does not matter. \n",
        "\n",
        "EX: How many pairs of fruit can you pick from {apple, banana, pear}?\n",
        "\n",
        "Spoken as \"n choose k\"  \n",
        "\n",
        "Written as \n",
        "$n \\choose k$ = $ \\frac{n!}{k! (n-k)!}$"
      ]
    },
    {
      "cell_type": "code",
      "metadata": {
        "id": "I7M1ves3a1zM",
        "colab_type": "code",
        "colab": {}
      },
      "source": [
        "def comb(n,k):\n",
        "  return factorial(n)/(factorial(k) * factorial(n-k))"
      ],
      "execution_count": 0,
      "outputs": []
    },
    {
      "cell_type": "markdown",
      "metadata": {
        "id": "FkT0aUMCMjj3",
        "colab_type": "text"
      },
      "source": [
        "There are 10 ways to choose 1 thing from 10 things.  \n",
        "There is only one way to choose 10 things from a set of 10 things.  \n",
        "There are 252 ways to choose 5 things from a set of 10 things.\n"
      ]
    },
    {
      "cell_type": "code",
      "metadata": {
        "id": "hzZzFQnaM-DI",
        "colab_type": "code",
        "outputId": "a8ee4d38-4b42-4941-be55-a7ba0355088f",
        "colab": {
          "base_uri": "https://localhost:8080/",
          "height": 38
        }
      },
      "source": [
        "comb10_1 = '{10 \\choose 1 } = ' + str(int(comb(10, 1)))\n",
        "comb10_10 = '{10 \\choose 10 } = ' + str(int(comb(10, 10)))\n",
        "comb10_5 = '{10 \\choose 5 } = ' + str(int(comb(10, 5)))\n",
        "\n",
        "display.display(display.Math(comb10_1 +',  '+ comb10_10 +',  '+ comb10_5))"
      ],
      "execution_count": 71,
      "outputs": [
        {
          "output_type": "display_data",
          "data": {
            "text/latex": "$${10 \\choose 1 } = 10,  {10 \\choose 10 } = 1,  {10 \\choose 5 } = 252$$",
            "text/plain": [
              "<IPython.core.display.Math object>"
            ]
          },
          "metadata": {
            "tags": []
          }
        }
      ]
    },
    {
      "cell_type": "code",
      "metadata": {
        "id": "nYoQERWQLPe3",
        "colab_type": "code",
        "outputId": "f412a731-a792-42c8-d1e0-07f1cee69b45",
        "colab": {
          "base_uri": "https://localhost:8080/",
          "height": 282
        }
      },
      "source": [
        "xs = range(1,11)\n",
        "ys = [comb(10, k) for k in xs]\n",
        "plot(xs, ys, 'o')"
      ],
      "execution_count": 0,
      "outputs": [
        {
          "output_type": "execute_result",
          "data": {
            "text/plain": [
              "[<matplotlib.lines.Line2D at 0x7fbf1b5ad748>]"
            ]
          },
          "metadata": {
            "tags": []
          },
          "execution_count": 22
        },
        {
          "output_type": "display_data",
          "data": {
            "image/png": "[encoded data removed]",
            "text/plain": [
              "<Figure size 432x288 with 1 Axes>"
            ]
          },
          "metadata": {
            "tags": [],
            "needs_background": "light"
          }
        }
      ]
    },
    {
      "cell_type": "markdown",
      "metadata": {
        "id": "KDxOMpeiSwZF",
        "colab_type": "text"
      },
      "source": [
        "Given n binary trials, what is the probability of k sucesses?"
      ]
    },
    {
      "cell_type": "code",
      "metadata": {
        "id": "HfvVaNh4cFdk",
        "colab_type": "code",
        "colab": {}
      },
      "source": [
        "def binomial(n,p):\n",
        "  def distribution(k):\n",
        "    return comb(n, k) * p**k * (1-p)**(n-k)\n",
        "\n",
        "  return distribution"
      ],
      "execution_count": 0,
      "outputs": []
    },
    {
      "cell_type": "code",
      "metadata": {
        "id": "0YtB-rn3cKca",
        "colab_type": "code",
        "outputId": "826c26cf-a913-491c-de3d-76dd15ad6663",
        "colab": {
          "base_uri": "https://localhost:8080/",
          "height": 35
        }
      },
      "source": [
        "binomial(10, 1/13)(5)"
      ],
      "execution_count": 0,
      "outputs": [
        {
          "output_type": "execute_result",
          "data": {
            "text/plain": [
              "0.0004548552879040863"
            ]
          },
          "metadata": {
            "tags": []
          },
          "execution_count": 12
        }
      ]
    },
    {
      "cell_type": "code",
      "metadata": {
        "id": "PlyRghzadNj5",
        "colab_type": "code",
        "colab": {}
      },
      "source": [
        "p = binomial(7,1/5)"
      ],
      "execution_count": 0,
      "outputs": []
    },
    {
      "cell_type": "code",
      "metadata": {
        "id": "SNnp5vFsdmre",
        "colab_type": "code",
        "outputId": "49f7cc66-9e00-4433-ff43-20cfadcba679",
        "colab": {
          "base_uri": "https://localhost:8080/",
          "height": 35
        }
      },
      "source": [
        "sum([p(k) for k in range(2,8)])"
      ],
      "execution_count": 0,
      "outputs": [
        {
          "output_type": "execute_result",
          "data": {
            "text/plain": [
              "0.4232832000000002"
            ]
          },
          "metadata": {
            "tags": []
          },
          "execution_count": 14
        }
      ]
    },
    {
      "cell_type": "code",
      "metadata": {
        "id": "Q1bLpn2vdq_i",
        "colab_type": "code",
        "colab": {}
      },
      "source": [
        "p2 = binomial(25,1/10)\n"
      ],
      "execution_count": 0,
      "outputs": []
    },
    {
      "cell_type": "code",
      "metadata": {
        "id": "l62BSbwtfTCh",
        "colab_type": "code",
        "outputId": "c3ebf291-708a-4358-8a24-aa85bdf41fb9",
        "colab": {
          "base_uri": "https://localhost:8080/",
          "height": 35
        }
      },
      "source": [
        "sum([p2(k) for k in range(2,25)])"
      ],
      "execution_count": 0,
      "outputs": [
        {
          "output_type": "execute_result",
          "data": {
            "text/plain": [
              "0.7287940935386341"
            ]
          },
          "metadata": {
            "tags": []
          },
          "execution_count": 16
        }
      ]
    },
    {
      "cell_type": "code",
      "metadata": {
        "id": "PQsYotR5fi0h",
        "colab_type": "code",
        "colab": {}
      },
      "source": [
        ""
      ],
      "execution_count": 0,
      "outputs": []
    }
  ]
}