{
  "nbformat": 4,
  "nbformat_minor": 0,
  "metadata": {
    "colab": {
      "name": "external-files.ipynb",
      "provenance": [],
      "collapsed_sections": [],
      "toc_visible": true,
      "authorship_tag": "ABX9TyNv6lnx+ACqsNhp3cbjpNnG",
      "include_colab_link": true
    },
    "kernelspec": {
      "name": "python3",
      "display_name": "Python 3"
    }
  },
  "cells": [
    {
      "cell_type": "markdown",
      "metadata": {
        "id": "view-in-github",
        "colab_type": "text"
      },
      "source": [
        "<a href=\"https://colab.research.google.com/github/ctarrington/try-colab/blob/master/external_files.ipynb\" target=\"_parent\"><img src=\"https://colab.research.google.com/assets/colab-badge.svg\" alt=\"Open In Colab\"/></a>"
      ]
    },
    {
      "cell_type": "code",
      "metadata": {
        "id": "F9cfk4MBJWP1",
        "colab_type": "code",
        "colab": {}
      },
      "source": [
        "!pip install -q arviz"
      ],
      "execution_count": 0,
      "outputs": []
    },
    {
      "cell_type": "code",
      "metadata": {
        "id": "hbep1qWZD6Ls",
        "colab_type": "code",
        "colab": {}
      },
      "source": [
        "import pandas as pd\n",
        "import arviz as az\n"
      ],
      "execution_count": 0,
      "outputs": []
    },
    {
      "cell_type": "code",
      "metadata": {
        "id": "838GngLXZ3Ft",
        "colab_type": "code",
        "colab": {}
      },
      "source": [
        "!rm -rf try-colab\n",
        "!git clone https://github.com/ctarrington/try-colab.git\n"
      ],
      "execution_count": 0,
      "outputs": []
    },
    {
      "cell_type": "code",
      "metadata": {
        "id": "6ZPp2IcFctym",
        "colab_type": "code",
        "colab": {}
      },
      "source": [
        "%load './try-colab/myutils/augment_tips.py'"
      ],
      "execution_count": 0,
      "outputs": []
    },
    {
      "cell_type": "code",
      "metadata": {
        "id": "MDip7braT4gL",
        "colab_type": "code",
        "colab": {}
      },
      "source": [
        "tips = augment_tips()"
      ],
      "execution_count": 0,
      "outputs": []
    },
    {
      "cell_type": "code",
      "metadata": {
        "id": "zqDqomgTUJQf",
        "colab_type": "code",
        "colab": {}
      },
      "source": [
        "tips.describe()"
      ],
      "execution_count": 0,
      "outputs": []
    },
    {
      "cell_type": "code",
      "metadata": {
        "id": "OM43akFaGNz5",
        "colab_type": "code",
        "colab": {}
      },
      "source": [
        "chemical_df = pd.read_csv('./try-colab/data/chemical_shifts.csv')"
      ],
      "execution_count": 0,
      "outputs": []
    },
    {
      "cell_type": "code",
      "metadata": {
        "id": "_palkeBOJIBf",
        "colab_type": "code",
        "colab": {}
      },
      "source": [
        "chemical_df.describe()"
      ],
      "execution_count": 0,
      "outputs": []
    },
    {
      "cell_type": "code",
      "metadata": {
        "id": "t6mJtlZlKEfM",
        "colab_type": "code",
        "colab": {}
      },
      "source": [
        "az.plot_kde(chemical_df, rug=True)"
      ],
      "execution_count": 0,
      "outputs": []
    },
    {
      "cell_type": "code",
      "metadata": {
        "id": "ipgqFYhkKmLW",
        "colab_type": "code",
        "colab": {}
      },
      "source": [
        ""
      ],
      "execution_count": 0,
      "outputs": []
    }
  ]
}